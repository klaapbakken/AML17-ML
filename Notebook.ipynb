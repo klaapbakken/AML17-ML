{
 "cells": [
  {
   "cell_type": "code",
   "execution_count": 40,
   "metadata": {
    "collapsed": true
   },
   "outputs": [],
   "source": [
    "import numpy as np\n",
    "import scipy as sp\n",
    "import pandas as pd\n",
    "import matplotlib.pyplot as plt\n",
    "import os\n",
    "from operator import itemgetter\n",
    "import json\n",
    "from sklearn.feature_extraction.text import CountVectorizer\n",
    "\n",
    "path = './/Data//Emails'\n",
    "dict_path = './/Data//English Words'\n",
    "name_path = './/Data//English Names'\n",
    "additional_path  = './/Data//Additional'"
   ]
  },
  {
   "cell_type": "code",
   "execution_count": 41,
   "metadata": {
    "collapsed": false
   },
   "outputs": [
    {
     "name": "stdout",
     "output_type": "stream",
     "text": [
      "[   0    2    3 ..., 5725 5726 5727]\n"
     ]
    }
   ],
   "source": [
    "train_data = pd.read_csv(os.path.join(path,'emails.train.csv'))\n",
    "train_data\n",
    "print(train_data.id.values)"
   ]
  },
  {
   "cell_type": "code",
   "execution_count": 42,
   "metadata": {
    "collapsed": false
   },
   "outputs": [
    {
     "name": "stdout",
     "output_type": "stream",
     "text": [
      "[   1    7    8 ..., 5719 5721 5723]\n"
     ]
    }
   ],
   "source": [
    "test_data = pd.read_csv(os.path.join(path,'emails.test.csv'))\n",
    "test_data\n",
    "print(test_data.id.values)"
   ]
  },
  {
   "cell_type": "code",
   "execution_count": 43,
   "metadata": {
    "collapsed": false
   },
   "outputs": [],
   "source": [
    "train_data = pd.read_csv(os.path.join(path,'emails.train.csv'))\n",
    "test_data = pd.read_csv(os.path.join(path, 'emails.test.csv'))\n",
    "all_data = pd.concat([train_data, test_data])\n",
    "all_data = all_data.sort_values('id')\n",
    "train_indices = train_data.id.values\n",
    "test_indices = test_data.id"
   ]
  },
  {
   "cell_type": "markdown",
   "metadata": {},
   "source": [
    "Possible features: \n",
    "* Word frequency\n",
    " * Each element of the vector indicates frequency of respective word. Occurances divided by total words\n",
    "* Length frequency\n",
    " * Each element of the vector indicates frequency of word with length i. Occurances dived by total words\n",
    "* Total number of words\n",
    " * Numeric value\n",
    "* Total number of letters\n",
    " * Numeric value\n",
    "* Number of non-alphabet characeters in subject\n",
    "* Number of non-alphabet characters in body\n",
    "* Indicators in subject\n",
    " * Reply, forward ..\n",
    "* Personal greeting\n",
    "* Presence of personal names\n",
    "* Number of grammatically incorrect words\n",
    "* Number of unique words"
   ]
  },
  {
   "cell_type": "code",
   "execution_count": 44,
   "metadata": {
    "collapsed": false
   },
   "outputs": [],
   "source": [
    "#Creates dictionary of the form {word(str):number(int)} for a single piece of text\n",
    "def word_split(text):\n",
    "    word_dict = {}\n",
    "    current_word = str()\n",
    "    for i in range(len(text)):\n",
    "        if text[i].isalpha():\n",
    "            current_word += text[i]\n",
    "            continue\n",
    "        else:\n",
    "            if current_word:\n",
    "                if current_word in word_dict:\n",
    "                    word_dict[current_word] += 1\n",
    "                else:\n",
    "                    word_dict[current_word] = 1\n",
    "                current_word = str()\n",
    "            else:\n",
    "                continue\n",
    "    return word_dict\n",
    "\n",
    "#Creates a list of all words in the data set\n",
    "def local_words(text_list):\n",
    "    local_word_list = []\n",
    "    for i in range(len(text_list)):\n",
    "        text = text_list.iloc[i]\n",
    "        word_dict = word_split(text)\n",
    "        for word in word_dict:\n",
    "            local_word_list.append(word)\n",
    "    return local_word_list\n",
    "\n",
    "#Creates a dictionary similar to word_split, but for full data set\n",
    "def local_word_dict(text_list):\n",
    "    local_word_dict = {}\n",
    "    for i in range(len(text_list)):\n",
    "        word_dict = word_split(text_list.iloc[i])\n",
    "        local_word_dict = {word: local_word_dict.get(word, 0) + word_dict.get(word, 0) for word in set(local_word_dict)|set(word_dict)}\n",
    "    return local_word_dict\n",
    "\n",
    "#Returns the n most frequent words in a dictionary of the type described in word_split\n",
    "def top_words(n, word_dict):\n",
    "    assert n < len(word_dict)\n",
    "    top_dict = {}\n",
    "    sorted_keys = sorted(word_dict, key=word_dict.get, reverse=True)\n",
    "    for i in range(n):\n",
    "        top_dict[sorted_keys[i]] = word_dict[sorted_keys[i]]\n",
    "    return top_dict\n",
    "        \n",
    "#Applying the functions to different subsets of the data            \n",
    "emails = train_data.text\n",
    "all_words = local_words(emails)\n",
    "\n",
    "spam = train_data.text[train_data.spam > 0]\n",
    "spam_words = local_words(spam)\n",
    "\n",
    "non_spam = train_data.text[train_data.spam < 1]\n",
    "non_spam_words = local_words(non_spam)\n",
    "\n",
    "email_dict = local_word_dict(emails)\n",
    "\n",
    "spam_dict = local_word_dict(spam)\n",
    "\n",
    "non_spam_dict = local_word_dict(non_spam)"
   ]
  },
  {
   "cell_type": "code",
   "execution_count": 45,
   "metadata": {
    "collapsed": false
   },
   "outputs": [],
   "source": [
    "#Reading external data into files. Dictionary, names, other custom lists\n",
    "\n",
    "english_dict_file = os.path.join(dict_path, 'words_dictionary.json')\n",
    "with open(english_dict_file,\"r\") as english_dictionary:\n",
    "    english_words_dict = json.load(english_dictionary)\n",
    "english_words_set = set(english_words_dict.keys())\n",
    "\n",
    "english_fnames_file = os.path.join(name_path, 'popular-both-first.txt')\n",
    "first_names = pd.read_csv(english_fnames_file, header=None)\n",
    "english_fnames_list = first_names.iloc[:, 0]\n",
    "english_fnames_list = [english_fnames_list[i].lower() for i in range(len(english_fnames_list))\n",
    "                      if isinstance(english_fnames_list[i], str)]\n",
    "english_fname_set = set(english_fnames_list)\n",
    "\n",
    "english_lnames_file = os.path.join(name_path, 'census-dist-2500-last.csv')\n",
    "last_names = pd.read_csv(english_lnames_file, header=None)\n",
    "english_lnames_list = last_names.iloc[:, 0]\n",
    "english_lnames_list = [english_lnames_list[i].lower() for i in range(len(english_lnames_list))\n",
    "                      if isinstance(english_lnames_list[i], str)]\n",
    "english_lname_set = set(english_lnames_list)\n",
    "\n",
    "english_greetings_file = os.path.join(additional_path, 'greetings.txt')\n",
    "greetings = pd.read_csv(english_greetings_file, header=None)\n",
    "greetings_list = greetings.iloc[:, 0]\n",
    "greetings_set = set(greetings_list)\n",
    "\n",
    "indicator_file = os.path.join(additional_path, 'indicators.txt')\n",
    "indicators = pd.read_csv(indicator_file, header=None)\n",
    "indicators_list = indicators.iloc[:, 0]\n",
    "indicators_set = set(indicators_list)\n",
    "\n",
    "date_file = os.path.join(additional_path, 'days_months.txt')\n",
    "dates = pd.read_csv(indicator_file, header=None)\n",
    "dates_list = indicators.iloc[:, 0]\n",
    "date_set = set(indicators_list)"
   ]
  },
  {
   "cell_type": "code",
   "execution_count": 46,
   "metadata": {
    "collapsed": false
   },
   "outputs": [],
   "source": [
    "#Getting proportion of correct words\n",
    "def text_dict_check(text_dict, english_dict_set):\n",
    "    correct_words = 0\n",
    "    incorrect_words = 0\n",
    "    text_set = set(text_dict.keys())\n",
    "    for word in text_set:\n",
    "        if word in english_dict_set:\n",
    "            correct_words += 1\n",
    "    return correct_words/len(text_dict)\n",
    "\n",
    "non_spam_prop = np.mean(np.array([text_dict_check(word_split(non_spam.iloc[i]), english_words_set)\n",
    "                                  for i in range(len(non_spam))]))\n",
    "spam_prop = np.mean(np.array([text_dict_check(word_split(spam.iloc[i]), english_words_set)\n",
    "                              for i in range(len(spam))]))\n",
    "\n",
    "#Check dictionary for words also in set\n",
    "def personal_names_check(text_dict, english_name_set):\n",
    "    personal_names = 0\n",
    "    text_set = set(text_dict.keys())\n",
    "    for word in text_set:\n",
    "        if word in english_name_set:\n",
    "            personal_names += 1\n",
    "    return personal_names"
   ]
  },
  {
   "cell_type": "code",
   "execution_count": 57,
   "metadata": {
    "collapsed": false
   },
   "outputs": [],
   "source": [
    "def bag_of_words(emails):\n",
    "    CV = CountVectorizer()\n",
    "    return CV.fit_transform(emails).toarray()"
   ]
  },
  {
   "cell_type": "code",
   "execution_count": 58,
   "metadata": {
    "collapsed": false
   },
   "outputs": [],
   "source": [
    "#Collecting all features in a numpy array\n",
    "def create_design_matrix(data, ew_set, ef_set, el_set, g_set, i_set, d_set):\n",
    "    bow = bag_of_words(data.text)\n",
    "    observations = len(data)\n",
    "    features = 9 + bow.shape[1]\n",
    "    X = np.zeros((observations, features))\n",
    "    for i in range(observations):\n",
    "        mail = data.text.iloc[i]\n",
    "        d = word_split(mail)\n",
    "        # Proportion of unique words\n",
    "        X[i, 0] = len(d) / sum(d.values())\n",
    "        # Proportion correct words\n",
    "        X[i, 1] = text_dict_check(d, ew_set)\n",
    "        # Number of personal names\n",
    "        X[i, 2] = personal_names_check(d, ef_set)\n",
    "        # Number of last names\n",
    "        X[i, 3] = personal_names_check(d, el_set)\n",
    "        # Number of greetings\n",
    "        X[i, 4] = personal_names_check(d, g_set)\n",
    "        # Number of indicators\n",
    "        X[i, 5] = personal_names_check(d, i_set)\n",
    "        # Presence of days, months, holidays\n",
    "        X[i, 6] = personal_names_check(d, d_set)\n",
    "        # Number of words\n",
    "        X[i, 7] = sum(d.values())\n",
    "        # Average word length\n",
    "        av_len = 0\n",
    "        for word in d:\n",
    "            av_len += len(word) / sum(d.values())\n",
    "        X[i, 8] = av_len\n",
    "        X[i, 9:] = np.array(bow[i, :])\n",
    "    return X\n",
    "\n",
    "#Creating numpy array for response\n",
    "def create_response_vector(data):\n",
    "    Y = np.array(data.spam)\n",
    "    Y[Y == 0] = -1\n",
    "    return Y"
   ]
  },
  {
   "cell_type": "code",
   "execution_count": 59,
   "metadata": {
    "collapsed": true
   },
   "outputs": [],
   "source": [
    "X = create_design_matrix(all_data, english_words_set, english_fname_set, english_lname_set,\n",
    "                         greetings_set, indicators_set, date_set)\n",
    "Y = create_response_vector(all_data)"
   ]
  },
  {
   "cell_type": "code",
   "execution_count": 60,
   "metadata": {
    "collapsed": false
   },
   "outputs": [
    {
     "name": "stdout",
     "output_type": "stream",
     "text": [
      "(5728, 37312)\n",
      "(5728,)\n",
      "4021\n",
      "(4021, 37312)\n"
     ]
    }
   ],
   "source": [
    "print(X.shape)\n",
    "print(Y.shape)\n",
    "     \n",
    "X_train = X[train_indices.tolist(), :]\n",
    "Y_train = Y[train_indices.tolist()]\n",
    "X_test = X[test_indices.tolist(), :]\n",
    "\n",
    "print(len(Y_train))\n",
    "\n",
    "print(X_train.shape)"
   ]
  },
  {
   "cell_type": "code",
   "execution_count": null,
   "metadata": {
    "collapsed": false
   },
   "outputs": [],
   "source": [
    "from sklearn.linear_model import LogisticRegression\n",
    "\n",
    "def data_split(data):\n",
    "    test_indices = np.random.choice(len(data), len(data)//5)\n",
    "    train_indices = np.array([i for i in range(len(data)) if i not in test_indices])\n",
    "    Y = create_response_vector(data)\n",
    "    X = create_design_matrix(data, english_words_set, english_fname_set, english_lname_set,\n",
    "                             greetings_set, indicators_set, date_set)\n",
    "    X_train = X[train_indices]\n",
    "    Y_train = Y[train_indices]\n",
    "    X_test = X[test_indices]\n",
    "    Y_test = Y[test_indices]\n",
    "    return X_train, X_test, Y_train, Y_test\n",
    "\n",
    "X_train, X_test, Y_train, Y_test = data_split(train_data)\n",
    "lr = LogisticRegression().fit(X_train, Y_train)\n",
    "print(lr.score(X_train, Y_train))\n",
    "print(lr.score(X_test, Y_test))"
   ]
  },
  {
   "cell_type": "code",
   "execution_count": 408,
   "metadata": {
    "collapsed": false
   },
   "outputs": [
    {
     "name": "stdout",
     "output_type": "stream",
     "text": [
      "0.947176684882\n",
      "0.860696517413\n"
     ]
    }
   ],
   "source": [
    "from sklearn.svm import LinearSVC, NuSVC\n",
    "\n",
    "X_train, X_test, Y_train, Y_test = data_split(train_data)\n",
    "svm = NuSVC(nu=0.3).fit(X_train, Y_train)\n",
    "print(svm.score(X_train, Y_train))\n",
    "print(svm.score(X_test, Y_test))"
   ]
  },
  {
   "cell_type": "code",
   "execution_count": 423,
   "metadata": {
    "collapsed": false
   },
   "outputs": [
    {
     "name": "stdout",
     "output_type": "stream",
     "text": [
      "0.927245053272\n",
      "0.8407960199\n"
     ]
    }
   ],
   "source": [
    "from sklearn.tree import DecisionTreeClassifier\n",
    "\n",
    "X_train, X_test, Y_train, Y_test = data_split(train_data)\n",
    "tree = DecisionTreeClassifier(max_depth=8, random_state=0)\n",
    "tree.fit(X_train, Y_train)\n",
    "print(tree.score(X_train, Y_train))\n",
    "print(tree.score(X_test, Y_test))"
   ]
  },
  {
   "cell_type": "code",
   "execution_count": 422,
   "metadata": {
    "collapsed": false
   },
   "outputs": [
    {
     "name": "stdout",
     "output_type": "stream",
     "text": [
      "0.991481594159\n",
      "0.901741293532\n"
     ]
    },
    {
     "data": {
      "image/png": "[encoded data removed]",
      "text/plain": [
       "<matplotlib.figure.Figure at 0x24e039fdb38>"
      ]
     },
     "metadata": {},
     "output_type": "display_data"
    }
   ],
   "source": [
    "from sklearn.ensemble import RandomForestClassifier\n",
    "from sklearn.metrics import average_precision_score, accuracy_score\n",
    "X_train, X_test, Y_train, Y_test = data_split(train_data)\n",
    "\n",
    "forest = RandomForestClassifier(n_estimators=10)\n",
    "forest.fit(X_train, Y_train)\n",
    "print(forest.score(X_train, Y_train))\n",
    "print(forest.score(X_test, Y_test))\n",
    "\n",
    "n_features = X_train.shape[1]\n",
    "plt.barh(range(n_features), forest.feature_importances_, align='center')\n",
    "feature_names = ['unique words', 'correct words', 'first names', 'last names', 'greetings', 'indicators',\n",
    "                 'dates', 'words', 'average word length']\n",
    "plt.yticks(np.arange(n_features), feature_names)\n",
    "plt.show()"
   ]
  },
  {
   "cell_type": "code",
   "execution_count": 427,
   "metadata": {
    "collapsed": false
   },
   "outputs": [
    {
     "ename": "ModuleNotFoundError",
     "evalue": "No module named 'graphviz'",
     "output_type": "error",
     "traceback": [
      "\u001b[1;31m---------------------------------------------------------------------------\u001b[0m",
      "\u001b[1;31mModuleNotFoundError\u001b[0m                       Traceback (most recent call last)",
      "\u001b[1;32m<ipython-input-427-e00917a57a8e>\u001b[0m in \u001b[0;36m<module>\u001b[1;34m()\u001b[0m\n\u001b[0;32m      2\u001b[0m export_graphviz(tree, out_file=\"tree.dot\", class_names=['spam', 'non-spam'], feature_names=feature_names,\n\u001b[0;32m      3\u001b[0m                 impurity=False, filled=True)\n\u001b[1;32m----> 4\u001b[1;33m \u001b[1;32mimport\u001b[0m \u001b[0mgraphviz\u001b[0m\u001b[1;33m\u001b[0m\u001b[0m\n\u001b[0m\u001b[0;32m      5\u001b[0m \u001b[1;32mwith\u001b[0m \u001b[0mopen\u001b[0m\u001b[1;33m(\u001b[0m\u001b[1;34m\"tree.dot\"\u001b[0m\u001b[1;33m)\u001b[0m \u001b[1;32mas\u001b[0m \u001b[0mf\u001b[0m\u001b[1;33m:\u001b[0m\u001b[1;33m\u001b[0m\u001b[0m\n\u001b[0;32m      6\u001b[0m     \u001b[0mdot_graph\u001b[0m \u001b[1;33m=\u001b[0m \u001b[0mf\u001b[0m\u001b[1;33m.\u001b[0m\u001b[0mread\u001b[0m\u001b[1;33m(\u001b[0m\u001b[1;33m)\u001b[0m\u001b[1;33m\u001b[0m\u001b[0m\n",
      "\u001b[1;31mModuleNotFoundError\u001b[0m: No module named 'graphviz'"
     ]
    }
   ],
   "source": [
    "from sklearn.tree import export_graphviz\n",
    "export_graphviz(tree, out_file=\"tree.dot\", class_names=['spam', 'non-spam'], feature_names=feature_names,\n",
    "                impurity=False, filled=True)\n",
    "import graphviz\n",
    "with open(\"tree.dot\") as f:\n",
    "    dot_graph = f.read()\n",
    "graphviz.Source(dot_graph)"
   ]
  },
  {
   "cell_type": "code",
   "execution_count": null,
   "metadata": {
    "collapsed": true
   },
   "outputs": [],
   "source": []
  }
 ],
 "metadata": {
  "kernelspec": {
   "display_name": "Python 3",
   "language": "python",
   "name": "python3"
  },
  "language_info": {
   "codemirror_mode": {
    "name": "ipython",
    "version": 3
   },
   "file_extension": ".py",
   "mimetype": "text/x-python",
   "name": "python",
   "nbconvert_exporter": "python",
   "pygments_lexer": "ipython3",
   "version": "3.6.0"
  }
 },
 "nbformat": 4,
 "nbformat_minor": 2
}
